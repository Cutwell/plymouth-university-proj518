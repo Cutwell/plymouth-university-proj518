{
 "cells": [
  {
   "cell_type": "markdown",
   "metadata": {},
   "source": [
    "# Construct dataset with mean velocity potential readings at each datapoint"
   ]
  },
  {
   "cell_type": "code",
   "execution_count": 1,
   "metadata": {},
   "outputs": [],
   "source": [
    "import pandas as pd\n",
    "import os\n",
    "import numpy as np"
   ]
  },
  {
   "cell_type": "code",
   "execution_count": 2,
   "metadata": {},
   "outputs": [
    {
     "name": "stdout",
     "output_type": "stream",
     "text": [
      "C:\\Users\\zacha\\Documents\\GitHub\\plymouth-university-proj518\\data\n"
     ]
    }
   ],
   "source": [
    "os.chdir('C:/Users/zacha/Documents/GitHub/plymouth-university-proj518/data')\n",
    "print(os.getcwd())"
   ]
  },
  {
   "cell_type": "code",
   "execution_count": 3,
   "metadata": {},
   "outputs": [],
   "source": [
    "# load UK east coast velocity potential bathymetry\n",
    "df = pd.read_csv(\"UK east coast velocity potential bathymetry.csv\")\n"
   ]
  },
  {
   "cell_type": "code",
   "execution_count": 4,
   "metadata": {},
   "outputs": [],
   "source": [
    "velocity_potential = df.drop(['Lon', 'Lat', 'Depth'], axis=1)\n",
    "\n",
    "mean = pd.DataFrame(columns=['Lon', 'Lat', 'Mean Velocity Potential'])\n",
    "mean['Lon'] = df['Lon']\n",
    "mean['Lat'] = df['Lat']\n",
    "mean['Mean Velocity Potential'] = velocity_potential.mean(axis=1)\n"
   ]
  },
  {
   "cell_type": "code",
   "execution_count": 5,
   "metadata": {},
   "outputs": [
    {
     "data": {
      "text/html": [
       "<div>\n",
       "<style scoped>\n",
       "    .dataframe tbody tr th:only-of-type {\n",
       "        vertical-align: middle;\n",
       "    }\n",
       "\n",
       "    .dataframe tbody tr th {\n",
       "        vertical-align: top;\n",
       "    }\n",
       "\n",
       "    .dataframe thead th {\n",
       "        text-align: right;\n",
       "    }\n",
       "</style>\n",
       "<table border=\"1\" class=\"dataframe\">\n",
       "  <thead>\n",
       "    <tr style=\"text-align: right;\">\n",
       "      <th></th>\n",
       "      <th>Lon</th>\n",
       "      <th>Lat</th>\n",
       "      <th>Mean Velocity Potential</th>\n",
       "    </tr>\n",
       "  </thead>\n",
       "  <tbody>\n",
       "    <tr>\n",
       "      <th>0</th>\n",
       "      <td>0.908810</td>\n",
       "      <td>53.508833</td>\n",
       "      <td>2.736670e+06</td>\n",
       "    </tr>\n",
       "    <tr>\n",
       "      <th>1</th>\n",
       "      <td>0.982291</td>\n",
       "      <td>53.615490</td>\n",
       "      <td>2.721223e+06</td>\n",
       "    </tr>\n",
       "    <tr>\n",
       "      <th>2</th>\n",
       "      <td>0.827796</td>\n",
       "      <td>53.586244</td>\n",
       "      <td>2.734179e+06</td>\n",
       "    </tr>\n",
       "    <tr>\n",
       "      <th>3</th>\n",
       "      <td>0.837720</td>\n",
       "      <td>53.702704</td>\n",
       "      <td>2.721660e+06</td>\n",
       "    </tr>\n",
       "    <tr>\n",
       "      <th>4</th>\n",
       "      <td>1.000396</td>\n",
       "      <td>53.708305</td>\n",
       "      <td>2.710981e+06</td>\n",
       "    </tr>\n",
       "    <tr>\n",
       "      <th>...</th>\n",
       "      <td>...</td>\n",
       "      <td>...</td>\n",
       "      <td>...</td>\n",
       "    </tr>\n",
       "    <tr>\n",
       "      <th>1024126</th>\n",
       "      <td>2.217679</td>\n",
       "      <td>53.699643</td>\n",
       "      <td>2.647869e+06</td>\n",
       "    </tr>\n",
       "    <tr>\n",
       "      <th>1024127</th>\n",
       "      <td>2.242710</td>\n",
       "      <td>53.639015</td>\n",
       "      <td>2.651492e+06</td>\n",
       "    </tr>\n",
       "    <tr>\n",
       "      <th>1024128</th>\n",
       "      <td>2.207816</td>\n",
       "      <td>53.635607</td>\n",
       "      <td>2.653392e+06</td>\n",
       "    </tr>\n",
       "    <tr>\n",
       "      <th>1024129</th>\n",
       "      <td>2.245553</td>\n",
       "      <td>53.681623</td>\n",
       "      <td>2.648031e+06</td>\n",
       "    </tr>\n",
       "    <tr>\n",
       "      <th>1024130</th>\n",
       "      <td>2.180942</td>\n",
       "      <td>53.674535</td>\n",
       "      <td>2.651573e+06</td>\n",
       "    </tr>\n",
       "  </tbody>\n",
       "</table>\n",
       "<p>1024131 rows × 3 columns</p>\n",
       "</div>"
      ],
      "text/plain": [
       "              Lon        Lat  Mean Velocity Potential\n",
       "0        0.908810  53.508833             2.736670e+06\n",
       "1        0.982291  53.615490             2.721223e+06\n",
       "2        0.827796  53.586244             2.734179e+06\n",
       "3        0.837720  53.702704             2.721660e+06\n",
       "4        1.000396  53.708305             2.710981e+06\n",
       "...           ...        ...                      ...\n",
       "1024126  2.217679  53.699643             2.647869e+06\n",
       "1024127  2.242710  53.639015             2.651492e+06\n",
       "1024128  2.207816  53.635607             2.653392e+06\n",
       "1024129  2.245553  53.681623             2.648031e+06\n",
       "1024130  2.180942  53.674535             2.651573e+06\n",
       "\n",
       "[1024131 rows x 3 columns]"
      ]
     },
     "execution_count": 5,
     "metadata": {},
     "output_type": "execute_result"
    }
   ],
   "source": [
    "mean"
   ]
  },
  {
   "cell_type": "code",
   "execution_count": 6,
   "metadata": {},
   "outputs": [],
   "source": [
    "mean.to_csv('UK east coast velocity potential mean.csv', index=False)"
   ]
  }
 ],
 "metadata": {
  "kernelspec": {
   "display_name": "Python 3.8.13 ('base')",
   "language": "python",
   "name": "python3"
  },
  "language_info": {
   "codemirror_mode": {
    "name": "ipython",
    "version": 3
   },
   "file_extension": ".py",
   "mimetype": "text/x-python",
   "name": "python",
   "nbconvert_exporter": "python",
   "pygments_lexer": "ipython3",
   "version": "3.8.13"
  },
  "orig_nbformat": 4,
  "vscode": {
   "interpreter": {
    "hash": "1490a734e1ed5a586e2dbc3fd70efa60aaa0bba665dd1e0af63a448fbcaeb9e1"
   }
  }
 },
 "nbformat": 4,
 "nbformat_minor": 2
}
