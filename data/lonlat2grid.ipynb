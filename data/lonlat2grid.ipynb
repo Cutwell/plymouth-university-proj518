{
 "cells": [
  {
   "cell_type": "markdown",
   "metadata": {},
   "source": [
    "# Add easting and northing information alongside lat/lon data points\n",
    "* When generating a lat/lon coordinate (i.e.: centre point), it is useful to translate these coordinates to something grid based\n",
    "* We can use this grid based system (10x10m national grid projection) to then e.g.: predict sizes of farms given num turbines, etc, and also define boundaries in steps of grid steps"
   ]
  },
  {
   "cell_type": "code",
   "execution_count": 1,
   "metadata": {},
   "outputs": [
    {
     "name": "stdout",
     "output_type": "stream",
     "text": [
      "Collecting OSGridConverter\n",
      "  Downloading OSGridConverter-0.1.3-py3-none-any.whl (19 kB)\n",
      "Installing collected packages: OSGridConverter\n",
      "Successfully installed OSGridConverter-0.1.3\n",
      "Note: you may need to restart the kernel to use updated packages.\n"
     ]
    },
    {
     "name": "stderr",
     "output_type": "stream",
     "text": [
      "WARNING: You are using pip version 22.0.4; however, version 22.2.2 is available.\n",
      "You should consider upgrading via the 'c:\\Users\\zacha\\miniconda3\\python.exe -m pip install --upgrade pip' command.\n"
     ]
    }
   ],
   "source": [
    "%pip install OSGridConverter"
   ]
  },
  {
   "cell_type": "code",
   "execution_count": 2,
   "metadata": {},
   "outputs": [],
   "source": [
    "from OSGridConverter import latlong2grid\n",
    "import pandas as pd\n",
    "import os"
   ]
  },
  {
   "cell_type": "code",
   "execution_count": 3,
   "metadata": {},
   "outputs": [
    {
     "name": "stdout",
     "output_type": "stream",
     "text": [
      "C:\\Users\\zacha\\Documents\\GitHub\\plymouth-university-proj518\n"
     ]
    }
   ],
   "source": [
    "os.chdir('C:/Users/zacha/Documents/GitHub/plymouth-university-proj518')\n",
    "print(os.getcwd())"
   ]
  },
  {
   "cell_type": "markdown",
   "metadata": {},
   "source": [
    "UKHO ADMIRALTY bathymetry UK east coast"
   ]
  },
  {
   "cell_type": "code",
   "execution_count": 25,
   "metadata": {},
   "outputs": [
    {
     "name": "stderr",
     "output_type": "stream",
     "text": [
      "C:\\Users\\zacha\\AppData\\Local\\Temp\\ipykernel_29840\\3454116105.py:7: FutureWarning: Columnar iteration over characters will be deprecated in future releases.\n",
      "  df['E'], df['N'] = grid.col.str\n"
     ]
    },
    {
     "name": "stdout",
     "output_type": "stream",
     "text": [
      "              Lon        Lat  Depth        E        N\n",
      "0        0.908810  53.508833  -18.5  7778770 -5354465\n",
      "1        0.982291  53.615490  -17.5  7798183 -5340001\n",
      "2        0.827796  53.586244  -32.0  7793363 -5369664\n",
      "3        0.837720  53.702704  -26.7  7814880 -5367357\n",
      "4        1.000396  53.708305  -26.2  7815286 -5336146\n",
      "...           ...        ...    ...      ...      ...\n",
      "2207212  0.335814  54.427344  -61.6  7951303 -5462568\n",
      "2207213  0.401275  54.418150  -59.1  7949472 -5449826\n",
      "2207214  0.297297  54.422569  -61.8  7950459 -5470081\n",
      "2207215  0.399222  54.362078  -60.0  7938952 -5450322\n",
      "2207216  0.295369  54.393939  -61.9  7945086 -5470493\n",
      "\n",
      "[2207217 rows x 5 columns]\n"
     ]
    }
   ],
   "source": [
    "# load Hornsea One Bathymetrics.csv with space seperated values\n",
    "df = pd.read_csv('data/UKHO ADMIRALTY bathymetry UK east coast.csv')\n",
    "\n",
    "# map lat long to grid reference\n",
    "grid = df.apply(lambda row: latlong2grid(row['Lon'], row['Lat']).eastNorth(), axis=1)\n",
    "grid = pd.DataFrame(grid, columns=['col'])\n",
    "df['E'], df['N'] = grid.col.str\n",
    "\n",
    "print(df)"
   ]
  },
  {
   "cell_type": "markdown",
   "metadata": {},
   "source": [
    "UK east coast velocity potential bathymetry"
   ]
  },
  {
   "cell_type": "code",
   "execution_count": 4,
   "metadata": {},
   "outputs": [
    {
     "name": "stderr",
     "output_type": "stream",
     "text": [
      "C:\\Users\\zacha\\AppData\\Local\\Temp\\ipykernel_21124\\1253461483.py:7: FutureWarning: Columnar iteration over characters will be deprecated in future releases.\n",
      "  df['E'], df['N'] = grid.col.str\n"
     ]
    },
    {
     "name": "stdout",
     "output_type": "stream",
     "text": [
      "              Lon        Lat          0          1          2          3  \\\n",
      "0        0.908810  53.508833 -4888854.5 -2964274.8 -1966400.0 -1944809.2   \n",
      "1        0.982291  53.615490 -4988734.5 -3007930.2 -2047237.6 -2029393.5   \n",
      "2        0.827796  53.586244 -4784387.0 -2952906.5 -1962346.2 -1973532.0   \n",
      "3        0.837720  53.702704 -4801098.0 -2978041.2 -2017788.0 -2047978.2   \n",
      "4        1.000396  53.708305 -5014005.5 -3031230.2 -2096183.8 -2092127.0   \n",
      "...           ...        ...        ...        ...        ...        ...   \n",
      "1024126  2.217679  53.699643 -5694062.0 -3604005.5 -2689456.0 -2391758.2   \n",
      "1024127  2.242710  53.639015 -5692613.0 -3599412.2 -2668872.0 -2356651.8   \n",
      "1024128  2.207816  53.635607 -5689655.5 -3576443.0 -2645123.5 -2349167.0   \n",
      "1024129  2.245553  53.681623 -5695249.0 -3615428.2 -2695986.8 -2384423.2   \n",
      "1024130  2.180942  53.674535 -5689730.0 -3572631.8 -2651261.5 -2370069.2   \n",
      "\n",
      "                 4          5          6          7  ...        222  \\\n",
      "0       -322963.75  1918140.2  2201700.2  497169.94  ...  3322026.8   \n",
      "1       -354367.40  1893077.1  2230719.8  457650.47  ...  3341163.8   \n",
      "2       -356079.72  1899125.8  2204834.5  470712.70  ...  3349537.8   \n",
      "3       -395331.00  1871085.8  2224391.5  432494.90  ...  3374911.8   \n",
      "4       -384673.72  1869927.0  2249043.0  425658.60  ...  3362921.2   \n",
      "...            ...        ...        ...        ...  ...        ...   \n",
      "1024126 -261153.12  2006061.4  2391894.0  390581.90  ...  3204701.5   \n",
      "1024127 -229469.25  2020203.2  2387442.2  409247.00  ...  3186712.2   \n",
      "1024128 -232057.67  2015658.1  2382485.5  412141.12  ...  3191427.8   \n",
      "1024129 -249270.31  2013778.6  2393233.0  395526.30  ...  3196134.5   \n",
      "1024130 -253706.14  2004430.0  2383961.0  400852.40  ...  3204667.0   \n",
      "\n",
      "               223        224        225        226        227        228  \\\n",
      "0        3967965.8  4784226.5  5026937.0  5759224.5  7478545.0  6909438.0   \n",
      "1        3944705.0  4779297.5  5034492.5  5724044.0  7471665.0  6907397.5   \n",
      "2        3995271.0  4783935.5  5044090.0  5784767.0  7470804.5  6913075.0   \n",
      "3        3985475.5  4781244.0  5058751.5  5753836.0  7458068.5  6913527.5   \n",
      "4        3939281.5  4779023.0  5045079.0  5691027.5  7475074.0  6907114.0   \n",
      "...            ...        ...        ...        ...        ...        ...   \n",
      "1024126  3693185.0  4644245.0  4938039.0  5258048.5  7214208.5  6816166.5   \n",
      "1024127  3682726.0  4651932.5  4928094.5  5259954.5  7215162.5  6811769.5   \n",
      "1024128  3686715.5  4657435.5  4930675.0  5274903.0  7226288.0  6815813.5   \n",
      "1024129  3687972.2  4643133.5  4933219.0  5250287.5  7208286.0  6812442.5   \n",
      "1024130  3695668.8  4653447.0  4938100.0  5277386.5  7228963.5  6819719.5   \n",
      "\n",
      "         Depth        E        N  \n",
      "0        -18.5  7778770 -5354465  \n",
      "1        -17.5  7798183 -5340001  \n",
      "2        -32.0  7793363 -5369664  \n",
      "3        -26.7  7814880 -5367357  \n",
      "4        -26.2  7815286 -5336146  \n",
      "...        ...      ...      ...  \n",
      "1024126  -28.4  7805397 -5103043  \n",
      "1024127  -24.2  7793961 -5098826  \n",
      "1024128  -24.0  7793660 -5105525  \n",
      "1024129  -21.7  7801804 -5097881  \n",
      "1024130  -27.5  7801098 -5110303  \n",
      "\n",
      "[1024131 rows x 234 columns]\n"
     ]
    }
   ],
   "source": [
    "# load Hornsea One Bathymetrics.csv with space seperated values\n",
    "df = pd.read_csv('data/UK east coast velocity potential bathymetry.csv')\n",
    "\n",
    "# map lat long to grid reference\n",
    "grid = df.apply(lambda row: latlong2grid(row['Lon'], row['Lat']).eastNorth(), axis=1)\n",
    "grid = pd.DataFrame(grid, columns=['col'])\n",
    "df['E'], df['N'] = grid.col.str\n",
    "\n",
    "print(df)"
   ]
  },
  {
   "cell_type": "code",
   "execution_count": null,
   "metadata": {},
   "outputs": [],
   "source": [
    "# save to csv\n",
    "df.to_csv('data/UK east coast velocity potential bathymetry.csv', index=False)"
   ]
  }
 ],
 "metadata": {
  "kernelspec": {
   "display_name": "Python 3.8.13 ('base')",
   "language": "python",
   "name": "python3"
  },
  "language_info": {
   "codemirror_mode": {
    "name": "ipython",
    "version": 3
   },
   "file_extension": ".py",
   "mimetype": "text/x-python",
   "name": "python",
   "nbconvert_exporter": "python",
   "pygments_lexer": "ipython3",
   "version": "3.8.13"
  },
  "orig_nbformat": 4,
  "vscode": {
   "interpreter": {
    "hash": "1490a734e1ed5a586e2dbc3fd70efa60aaa0bba665dd1e0af63a448fbcaeb9e1"
   }
  }
 },
 "nbformat": 4,
 "nbformat_minor": 2
}
