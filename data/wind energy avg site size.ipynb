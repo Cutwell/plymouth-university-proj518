{
 "cells": [
  {
   "cell_type": "markdown",
   "metadata": {},
   "source": [
    "# Calculate average size of OWF from Turbine number and engineering constraints\n",
    "\n",
    "*Calculating approximate boundary of wind farms given no. of turbines*\n",
    "1. Each turbine requires 500m spacing from surrounding turbines/\n",
    "2. Assuming grid layout, number of turbines on a is sqrt(num_turbines)\n",
    "3. Translating lat/lon of centre of known site to OS grid Easting and Northing coordinates, coordinates can be mapped to a 10x10m national grid\n",
    "4. Positions of site boundaries can be calculated on this grid, then translated back into lat/lon coordinates\n",
    "5. The offsets calculated from this can then be used to workout average size of farms, giving useful limitiations for finding new sites"
   ]
  },
  {
   "cell_type": "code",
   "execution_count": 7,
   "metadata": {},
   "outputs": [],
   "source": [
    "import pandas as pd\n",
    "import os\n",
    "from OSGridConverter import latlong2grid, grid2latlong\n",
    "import numpy as np"
   ]
  },
  {
   "cell_type": "code",
   "execution_count": 2,
   "metadata": {},
   "outputs": [
    {
     "name": "stdout",
     "output_type": "stream",
     "text": [
      "C:\\Users\\zacha\\Documents\\GitHub\\plymouth-university-proj518\\data\n"
     ]
    }
   ],
   "source": [
    "os.chdir('C:/Users/zacha/Documents/GitHub/plymouth-university-proj518/data')\n",
    "print(os.getcwd())"
   ]
  },
  {
   "cell_type": "code",
   "execution_count": 3,
   "metadata": {},
   "outputs": [],
   "source": [
    "file = 'UK east coast wind energy locations.csv'\n",
    "df = pd.read_csv(file, sep=',')"
   ]
  },
  {
   "cell_type": "code",
   "execution_count": 8,
   "metadata": {},
   "outputs": [
    {
     "name": "stdout",
     "output_type": "stream",
     "text": [
      "Lon avg: 0.0010898192983598688, Lat avg: -2.1518227154293523e-07, from 4 sites\n"
     ]
    }
   ],
   "source": [
    "lon_avg = 0\n",
    "lat_avg = 0\n",
    "\n",
    "for idx, row in df.iterrows():\n",
    "    lon, lat, turbnum = row['LNG'], row['LAT'], row['TURBNUM']\n",
    "\n",
    "    grid = latlong2grid(lat, lon)\n",
    "    easting, northing = grid.eastNorth()\n",
    "\n",
    "    # square root turbnum to get number of turbines along lon / lat dimensions\n",
    "    length_turbnum = np.sqrt(turbnum)\n",
    "\n",
    "    # length of lon / lat dimensions from 500m radius / turbine in metres\n",
    "    # get offset from 500m / 2.0 for radius, then divide by 10.0 to get northing/eassting conversion to 10x10m national grid = 25.0\n",
    "    eastNorth_offset = int(length_turbnum * 25.0)\n",
    "\n",
    "    # calculate easting northings of corners\n",
    "    q1_easting, q1_northing = easting - eastNorth_offset, northing + eastNorth_offset\n",
    "    q2_easting, q2_northing = easting + eastNorth_offset, northing + eastNorth_offset\n",
    "    q3_easting, q3_northing = easting - eastNorth_offset, northing - eastNorth_offset\n",
    "    q4_easting, q4_northing = easting + eastNorth_offset, northing - eastNorth_offset\n",
    "\n",
    "    # calculate lons and lats of corners\n",
    "    q1 = grid2latlong(f'TB {str(q1_easting)[1:]} {str(q1_northing)[1:]}', tag='WGS84')\n",
    "    q2 = grid2latlong(f'TB {str(q2_easting)[1:]} {str(q2_northing)[1:]}', tag='WGS84')\n",
    "    q3 = grid2latlong(f'TB {str(q3_easting)[1:]} {str(q3_northing)[1:]}', tag='WGS84')\n",
    "    q4 = grid2latlong(f'TB {str(q4_easting)[1:]} {str(q4_northing)[1:]}', tag='WGS84')\n",
    "\n",
    "    q1_lon, q1_lat = q1.longitude, q1.latitude\n",
    "    q2_lon, q2_lat = q2.longitude, q2.latitude\n",
    "    q3_lon, q3_lat = q3.longitude, q3.latitude\n",
    "    q4_lon, q4_lat = q4.longitude, q4.latitude\n",
    "\n",
    "    # calculate offsets from centre\n",
    "    q1_lon_offset = q1_lon - lon\n",
    "    q1_lat_offset = q1_lat - lat\n",
    "    q2_lon_offset = q2_lon - lon\n",
    "    q2_lat_offset = q2_lat - lat\n",
    "    q3_lon_offset = q3_lon - lon\n",
    "    q3_lat_offset = q3_lat - lat\n",
    "    q4_lon_offset = q4_lon - lon\n",
    "    q4_lat_offset = q4_lat - lat\n",
    "\n",
    "    # calculate average lon / lat\n",
    "    lon_avg += q1_lon_offset + q2_lon_offset + q3_lon_offset + q4_lon_offset\n",
    "    lat_avg += q1_lat_offset + q2_lat_offset + q3_lat_offset + q4_lat_offset\n",
    "\n",
    "    lon_avg /= 4\n",
    "    lat_avg /= 4\n",
    "\n",
    "\n",
    "\n",
    "lon_avg /= len(df)\n",
    "lat_avg /= len(df)\n",
    "\n",
    "print(f\"Lon avg: {lon_avg}, Lat avg: {lat_avg}, from {len(df)} sites\")"
   ]
  }
 ],
 "metadata": {
  "kernelspec": {
   "display_name": "Python 3.8.13 ('base')",
   "language": "python",
   "name": "python3"
  },
  "language_info": {
   "codemirror_mode": {
    "name": "ipython",
    "version": 3
   },
   "file_extension": ".py",
   "mimetype": "text/x-python",
   "name": "python",
   "nbconvert_exporter": "python",
   "pygments_lexer": "ipython3",
   "version": "3.8.13"
  },
  "orig_nbformat": 4,
  "vscode": {
   "interpreter": {
    "hash": "1490a734e1ed5a586e2dbc3fd70efa60aaa0bba665dd1e0af63a448fbcaeb9e1"
   }
  }
 },
 "nbformat": 4,
 "nbformat_minor": 2
}
